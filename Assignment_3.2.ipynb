{
 "cells": [
  {
   "cell_type": "code",
   "execution_count": 2,
   "metadata": {},
   "outputs": [
    {
     "name": "stdout",
     "output_type": "stream",
     "text": [
      "['A', 'C', 'A', 'D', 'G', 'I', 'L', 'D']\n"
     ]
    }
   ],
   "source": [
    "s = \"ACADGILD\" # this is the astring that will be converted to a list\n",
    "list1 = [i for i in s] #takes each character of the string and creates a list from them\n",
    "print(list1)"
   ]
  },
  {
   "cell_type": "code",
   "execution_count": 3,
   "metadata": {},
   "outputs": [
    {
     "name": "stdout",
     "output_type": "stream",
     "text": [
      "['x', 'xx', 'xxx', 'xxxx', 'y', 'yy', 'yyy', 'yyyy', 'z', 'zz', 'zzz', 'zzzz']\n"
     ]
    }
   ],
   "source": [
    "t = 'xyz' # this is the string iwth the 3 letters x y & z\n",
    "l2 = [(c, c*2, c*3, c*4) for c in t]  #this will create a list from the string \n",
    "list2 = [item for sublist in l2 for item in sublist] #this cleans up the list so that it is one dimensional\n",
    "print (list2)\n"
   ]
  },
  {
   "cell_type": "code",
   "execution_count": 4,
   "metadata": {},
   "outputs": [
    {
     "name": "stdout",
     "output_type": "stream",
     "text": [
      "['x', 'y', 'z', 'xx', 'yy', 'zz', 'xxx', 'yyy', 'zzz', 'xxxx', 'yyyy', 'zzzz']\n"
     ]
    }
   ],
   "source": [
    "l3 = [ch for ch in t] #this will create x, y, z list\n",
    "li3 = [ch*2 for ch in t] #this will create xx, yy, zz list\n",
    "lis3 = [ch*3 for ch in t] #this will create xxx, yyy, zzz list\n",
    "list3 = [ch*4 for ch in t] #this will create xxxx, yyyy, zzzz list\n",
    "list_3 = l3 + li3 + lis3 + list3 #this will create a final string with all the characters needed\n",
    "print(list_3) "
   ]
  },
  {
   "cell_type": "code",
   "execution_count": 15,
   "metadata": {},
   "outputs": [
    {
     "name": "stdout",
     "output_type": "stream",
     "text": [
      "[[2], [3], [4], [3], [4], [5], [4], [5], [6]]\n"
     ]
    }
   ],
   "source": [
    "l4 = [[a]for a in range(2,5)] #this will create the first three numbers 2, 3, & 4\n",
    "li4 = [[a+1] for a in range(2,5)] #this will increase 2, 3, 4 by 1 in order to complete the pattern of the desired output\n",
    "lis4 = [[a+2]for a in range(2,5)] #this will increase 2, 3, 4 by 2 in order to complete the pattern of the desired output\n",
    "list_4 = l4 + li4 + lis4 #final list with the pattern of n, n+1, & n+2 for 2, 3, & 4\n",
    "print (list_4)"
   ]
  },
  {
   "cell_type": "code",
   "execution_count": 20,
   "metadata": {},
   "outputs": [
    {
     "name": "stdout",
     "output_type": "stream",
     "text": [
      "[[2, 3, 4, 5], [3, 4, 5, 6], [4, 5, 6, 7], [5, 6, 7, 8]]\n"
     ]
    }
   ],
   "source": [
    "#this will be using list comprehensions to create 4 lists of different ranges\n",
    "l5 = [num for num in range(2,6)] \n",
    "li5 = [num for num in range(3,7)] \n",
    "lis5 = [num for num in range(4,8)]\n",
    "list5 = [num for num in range(5,9)]\n",
    "#this will be createing a nested list of the previous 4 lists\n",
    "list_5 = [l5,li5,lis5,list5]\n",
    "print (list_5)"
   ]
  },
  {
   "cell_type": "code",
   "execution_count": 22,
   "metadata": {},
   "outputs": [
    {
     "name": "stdout",
     "output_type": "stream",
     "text": [
      "[(1, 1), (2, 1), (3, 1), (1, 2), (2, 2), (3, 2), (1, 3), (2, 3), (3, 3)]\n"
     ]
    }
   ],
   "source": [
    "l6 = [(d,1) for d in range(1,4)]\n",
    "li6 = [(d,2) for d in range(1,4)]\n",
    "lis6 = [(d,3) for d in range(1,4)]\n",
    "list_6 = l6 + li6 + lis6\n",
    "print(list_6)"
   ]
  }
 ],
 "metadata": {
  "kernelspec": {
   "display_name": "Python 3",
   "language": "python",
   "name": "python3"
  }
 },
 "nbformat": 4,
 "nbformat_minor": 2
}
